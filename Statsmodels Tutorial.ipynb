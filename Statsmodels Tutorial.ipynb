{
 "cells": [
  {
   "cell_type": "code",
   "execution_count": 2,
   "id": "8cffcc62",
   "metadata": {
    "ExecuteTime": {
     "end_time": "2022-04-28T20:48:08.337670Z",
     "start_time": "2022-04-28T20:48:06.093082Z"
    }
   },
   "outputs": [],
   "source": [
    "#import the necessary packages\n",
    "import numpy as np\n",
    "import matplotlib.pyplot as plt\n",
    "%matplotlib inline\n",
    "import statsmodels.api as sm\n",
    "import statsmodels.formula.api as smf"
   ]
  },
  {
   "cell_type": "code",
   "execution_count": 3,
   "id": "75c87a48",
   "metadata": {
    "ExecuteTime": {
     "end_time": "2022-04-28T20:48:46.924979Z",
     "start_time": "2022-04-28T20:48:46.920990Z"
    }
   },
   "outputs": [],
   "source": [
    "#import data into arrays\n",
    "Tc = np.array([\n",
    "    2458962.86400, 2458976.87712, 2458997.89086, 2459003.49610, 2459011.91238,\n",
    "    2459301.99500, 2459346.83850, 2459353.82930, 2459367.85766, 2459381.85900,\n",
    "    2459395.88800, 2459409.90200, 2459422.51500, 2459440.73108, 2459443.51780,\n",
    "    2459447.73700, 2459461.75100\n",
    "])\n",
    "Tc_error = np.array([\n",
    "    0.0007, 0.0007, 0.0008, 0.0041, 0.0006, 0.0009, 0.0011, 0.0024, 0.0007,\n",
    "    0.0092, 0.0020, 0.0019, 0.0015, 0.0006, 0.0046, 0.0012, 0.0100\n",
    "])"
   ]
  },
  {
   "cell_type": "code",
   "execution_count": 4,
   "id": "1d400b21",
   "metadata": {
    "ExecuteTime": {
     "end_time": "2022-04-28T20:51:28.852383Z",
     "start_time": "2022-04-28T20:51:28.833434Z"
    }
   },
   "outputs": [
    {
     "name": "stdout",
     "output_type": "stream",
     "text": [
      "[  0.       14.01312  35.02686  40.6321   49.04838 339.131   383.9745\n",
      " 390.9653  404.99366 418.995   433.024   447.038   459.651   477.86708\n",
      " 480.6538  484.873   498.887  ]\n",
      "[  0.  10.  25.  29.  35. 242. 274. 279. 289. 299. 309. 319. 328. 341.\n",
      " 343. 346. 356.]\n"
     ]
    }
   ],
   "source": [
    "Tc_norm = Tc - Tc[0]  #normalize the data to the first observation\n",
    "print(Tc_norm)\n",
    "P = 1.4013788  #orbital period for WASP-135\n",
    "orbit = np.rint(Tc_norm / P)  #number of orbits since first observation (rounded to nearest integer)\n",
    "print(orbit)"
   ]
  },
  {
   "cell_type": "code",
   "execution_count": 12,
   "id": "4825ecd9",
   "metadata": {
    "ExecuteTime": {
     "end_time": "2022-04-28T21:10:09.425601Z",
     "start_time": "2022-04-28T21:10:09.410642Z"
    }
   },
   "outputs": [
    {
     "name": "stdout",
     "output_type": "stream",
     "text": [
      "Params = [2.45896286e+06 1.40137139e+00]\n",
      "Error matrix [[ 1.31511712e-07 -4.46950370e-10]\n",
      " [-4.46950370e-10  2.71395535e-12]]\n",
      "T0= 2458962.862515354 +- 0.0003626454363351843\n",
      "P= 1.401371388427492 +- 1.647408676237188e-06\n"
     ]
    }
   ],
   "source": [
    "A = np.vstack([np.ones(len(Tc)), orbit]).T \n",
    "#make a n x 2 matrix with 1's in the first column and values of orbit in the second\n",
    "\n",
    "res = sm.WLS(Tc, A, weights=1.0/Tc_error**2).fit() #perform the weighted least squares regression\n",
    "#pass in the T_c's, the new orbit matrix A, and the weights\n",
    "#use sm.WLS for weighted LS, sm.OLS for ordinary LS, or sm.GLS for general LS\n",
    "\n",
    "#print(res.summary())\n",
    "params = res.params #retrieve the slope and intercept of the fit from res\n",
    "print(\"Params =\",params)\n",
    "print(\"Error matrix\",res.normalized_cov_params)\n",
    "cov = np.sqrt(np.diagonal(res.normalized_cov_params))\n",
    "print(\"T0=\",params[0],\"+-\",cov[0])\n",
    "print(\"P=\",params[1],\"+-\",cov[1])"
   ]
  },
  {
   "cell_type": "code",
   "execution_count": null,
   "id": "eeb4f7af",
   "metadata": {},
   "outputs": [],
   "source": []
  }
 ],
 "metadata": {
  "kernelspec": {
   "display_name": "Python 3",
   "language": "python",
   "name": "python3"
  },
  "language_info": {
   "codemirror_mode": {
    "name": "ipython",
    "version": 3
   },
   "file_extension": ".py",
   "mimetype": "text/x-python",
   "name": "python",
   "nbconvert_exporter": "python",
   "pygments_lexer": "ipython3",
   "version": "3.8.8"
  }
 },
 "nbformat": 4,
 "nbformat_minor": 5
}
