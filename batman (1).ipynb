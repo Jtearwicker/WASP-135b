{
 "cells": [
  {
   "cell_type": "code",
   "execution_count": null,
   "id": "94aaf219",
   "metadata": {
    "ExecuteTime": {
     "end_time": "2022-01-26T22:32:10.793066Z",
     "start_time": "2022-01-26T22:32:06.251214Z"
    }
   },
   "outputs": [],
   "source": [
    "import batman\n",
    "import numpy as np\n",
    "import matplotlib.pyplot as plt\n",
    "import pandas as pd\n",
    "from scipy import stats\n",
    "\n",
    "plt.style.use('dark_background')\n",
    "#note:Time and Flux are capitalized when refering to the data and lowercase in the batman model"
   ]
  },
  {
   "cell_type": "code",
   "execution_count": null,
   "id": "0428a420",
   "metadata": {
    "ExecuteTime": {
     "end_time": "2022-01-26T22:32:11.063345Z",
     "start_time": "2022-01-26T22:32:10.794063Z"
    }
   },
   "outputs": [],
   "source": [
    "data = pd.read_csv(\n",
    "    'C:\\\\Users\\\\jtear\\\\OneDrive\\\\Desktop\\\\WASP-135b AIJ Results\\\\WASP-135 AIJ 2020-04-23\\\\Measurements.xls',\n",
    "    sep='\\t')\n",
    "Time = data['BJD_TDB'].values\n",
    "Flux = data['rel_flux_T1'].values\n",
    "\n",
    "plt.plot(Time, Flux, 'o')"
   ]
  },
  {
   "cell_type": "code",
   "execution_count": null,
   "id": "50359001",
   "metadata": {
    "ExecuteTime": {
     "end_time": "2022-01-26T22:32:11.253833Z",
     "start_time": "2022-01-26T22:32:11.065338Z"
    }
   },
   "outputs": [],
   "source": [
    "#normalize the out of transit data to 0\n",
    "Time_bt = (Time[0:80])  #define time before transit\n",
    "Time_at = (Time[228:288])  #after transit\n",
    "Time_oot = np.concatenate((Time_bt, Time_at))  #total out of transit times\n",
    "Flux_bt = (Flux[0:80])  #define flux before transit\n",
    "Flux_at = (Flux[228:288])  #after transit\n",
    "Flux_oot = np.concatenate((Flux_bt, Flux_at))  #total out of transit flux\n",
    "b = np.polyfit(Time_oot, Flux_oot, 0)  #find intercept (normalizing constant)\n",
    "\n",
    "print('b = ',b)\n",
    "b_array = np.full(len(Time_oot), b)\n",
    "Flux_norm = Flux - b +1\n",
    "plt.plot(Time_oot, Flux_oot, 'o')\n",
    "plt.plot(Time_oot, b_array, color='red')"
   ]
  },
  {
   "cell_type": "code",
   "execution_count": null,
   "id": "bc0f0bae",
   "metadata": {
    "ExecuteTime": {
     "end_time": "2022-01-26T22:32:11.364539Z",
     "start_time": "2022-01-26T22:32:11.254830Z"
    }
   },
   "outputs": [],
   "source": [
    "plt.plot(Time, Flux_norm, 'o')\n",
    "z = np.full(len(Flux), 1)\n",
    "plt.plot(Time, z, c='red')"
   ]
  },
  {
   "cell_type": "code",
   "execution_count": null,
   "id": "48fd913f",
   "metadata": {
    "ExecuteTime": {
     "end_time": "2022-01-26T22:32:11.379497Z",
     "start_time": "2022-01-26T22:32:11.367531Z"
    }
   },
   "outputs": [],
   "source": [
    "params = batman.TransitParams()  #object to store transit parameters\n",
    "params.t0 = 0.0  #time of inferior conjunction\n",
    "params.per = 1.4013794  #orbital period\n",
    "params.rp = 0.146  #planet radius (in units of stellar radii)\n",
    "params.a = 5.6  #semi-major axis (in units of stellar radii)\n",
    "params.inc = 82.  #orbital inclination (in degrees)\n",
    "params.ecc = 0.  #eccentricity\n",
    "params.w = 90.  #longitude of periastron (in degrees)\n",
    "params.limb_dark = \"quadratic\"  #limb darkening model\n",
    "params.u = [0.32314156, 0.26871384]  #limb darkening coefficients [u1, u2]\n",
    "\n",
    "time = np.linspace(-0.08, 0.08, len(Time))  #times at which to calculate light curve\n",
    "m = batman.TransitModel(params, time)  #initializes model"
   ]
  },
  {
   "cell_type": "code",
   "execution_count": null,
   "id": "98b42538",
   "metadata": {
    "ExecuteTime": {
     "end_time": "2022-01-26T22:32:11.395455Z",
     "start_time": "2022-01-26T22:32:11.381493Z"
    }
   },
   "outputs": [],
   "source": [
    "flux = m.light_curve(params)  #calculates light curve\n",
    "radii = np.linspace(0.09, 0.11, 20)\n",
    "for r in radii:\n",
    "    params.rp = r  #updates planet radius\n",
    "    new_flux = m.light_curve(params)  #recalculates light curve"
   ]
  },
  {
   "cell_type": "code",
   "execution_count": null,
   "id": "a7617eac",
   "metadata": {
    "ExecuteTime": {
     "end_time": "2022-01-26T22:32:11.523115Z",
     "start_time": "2022-01-26T22:32:11.397449Z"
    },
    "scrolled": true
   },
   "outputs": [],
   "source": [
    "plt.plot(time, flux, 'o')\n",
    "plt.xlabel(\"Time from central transit\")\n",
    "plt.ylabel(\"Relative flux\")\n",
    "plt.show()"
   ]
  },
  {
   "cell_type": "code",
   "execution_count": null,
   "id": "6fc13679",
   "metadata": {
    "ExecuteTime": {
     "end_time": "2022-01-26T22:32:11.648777Z",
     "start_time": "2022-01-26T22:32:11.529099Z"
    }
   },
   "outputs": [],
   "source": [
    "Time_norm = Time - (0.86 + 2.458962e6)\n",
    "plt.plot(Time_norm, Flux_norm, 'o', color='blue') #data\n",
    "plt.plot(time, flux, 'o', color='red') #model\n",
    "plt.xlabel(\"Time from central transit\")\n",
    "plt.ylabel(\"Relative flux\")"
   ]
  },
  {
   "cell_type": "code",
   "execution_count": null,
   "id": "e87056f8",
   "metadata": {
    "ExecuteTime": {
     "end_time": "2022-01-26T22:32:11.664736Z",
     "start_time": "2022-01-26T22:32:11.649774Z"
    }
   },
   "outputs": [],
   "source": [
    "#Chi squared test\n",
    "for i in range (0, len(Time)):\n",
    "    chi_sq = scipy.stats.chisquare(Flux[i], flux[i])\n",
    "    return chi_sq\n",
    "    \n",
    "    "
   ]
  },
  {
   "cell_type": "code",
   "execution_count": null,
   "id": "4892484b",
   "metadata": {},
   "outputs": [],
   "source": []
  }
 ],
 "metadata": {
  "kernelspec": {
   "display_name": "Python 3",
   "language": "python",
   "name": "python3"
  },
  "language_info": {
   "codemirror_mode": {
    "name": "ipython",
    "version": 3
   },
   "file_extension": ".py",
   "mimetype": "text/x-python",
   "name": "python",
   "nbconvert_exporter": "python",
   "pygments_lexer": "ipython3",
   "version": "3.8.8"
  }
 },
 "nbformat": 4,
 "nbformat_minor": 5
}
