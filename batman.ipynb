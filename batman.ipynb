{
 "cells": [
  {
   "cell_type": "code",
   "execution_count": null,
   "id": "94aaf219",
   "metadata": {
    "ExecuteTime": {
     "end_time": "2022-01-24T22:31:27.561034Z",
     "start_time": "2022-01-24T22:31:27.549066Z"
    }
   },
   "outputs": [],
   "source": [
    "import batman\n",
    "import numpy as np\n",
    "import matplotlib.pyplot as plt\n",
    "import pandas as pd\n",
    "\n",
    "plt.style.use('dark_background')"
   ]
  },
  {
   "cell_type": "code",
   "execution_count": null,
   "id": "48fd913f",
   "metadata": {
    "ExecuteTime": {
     "end_time": "2022-01-24T22:31:27.575996Z",
     "start_time": "2022-01-24T22:31:27.562031Z"
    }
   },
   "outputs": [],
   "source": [
    "params = batman.TransitParams()  #object to store transit parameters\n",
    "params.t0 = 0.0  #time of inferior conjunction\n",
    "params.per = 1.4013794  #orbital period\n",
    "params.rp = 0.146  #planet radius (in units of stellar radii)\n",
    "params.a = 5.6  #semi-major axis (in units of stellar radii)\n",
    "params.inc = 82.  #orbital inclination (in degrees)\n",
    "params.ecc = 0.  #eccentricity\n",
    "params.w = 90.  #longitude of periastron (in degrees)\n",
    "params.limb_dark = \"quadratic\"  #limb darkening model\n",
    "params.u = [0.32314156, 0.26871384]  #limb darkening coefficients [u1, u2]\n",
    "\n",
    "t = np.linspace(-0.06, 0.06, 100)  #times at which to calculate light curve\n",
    "m = batman.TransitModel(params, t)  #initializes model"
   ]
  },
  {
   "cell_type": "code",
   "execution_count": null,
   "id": "98b42538",
   "metadata": {
    "ExecuteTime": {
     "end_time": "2022-01-24T22:31:27.591953Z",
     "start_time": "2022-01-24T22:31:27.576991Z"
    }
   },
   "outputs": [],
   "source": [
    "flux = m.light_curve(params)  #calculates light curve\n",
    "radii = np.linspace(0.09, 0.11, 20)\n",
    "for r in radii:\n",
    "    params.rp = r  #updates planet radius\n",
    "    new_flux = m.light_curve(params)  #recalculates light curve"
   ]
  },
  {
   "cell_type": "code",
   "execution_count": null,
   "id": "a7617eac",
   "metadata": {
    "ExecuteTime": {
     "end_time": "2022-01-24T22:31:27.778959Z",
     "start_time": "2022-01-24T22:31:27.592948Z"
    }
   },
   "outputs": [],
   "source": [
    "plt.plot(t, flux)\n",
    "plt.xlabel(\"Time from central transit\")\n",
    "plt.ylabel(\"Relative flux\")\n",
    "plt.show()"
   ]
  },
  {
   "cell_type": "code",
   "execution_count": null,
   "id": "36c44268",
   "metadata": {
    "ExecuteTime": {
     "end_time": "2022-01-24T22:31:27.825833Z",
     "start_time": "2022-01-24T22:31:27.781950Z"
    }
   },
   "outputs": [],
   "source": [
    "data = pd.read_csv(\n",
    "    'C:\\\\Users\\\\jtear\\\\OneDrive\\\\Desktop\\\\WASP-135b AIJ Results\\\\WASP-135 AIJ 2020-04-23\\\\Measurements.xls',\n",
    "    sep='\\t')\n",
    "time = data['BJD_TDB'].values\n",
    "flux = data['rel_flux_T1'].values"
   ]
  },
  {
   "cell_type": "code",
   "execution_count": null,
   "id": "01f87053",
   "metadata": {
    "ExecuteTime": {
     "end_time": "2022-01-24T22:31:27.948504Z",
     "start_time": "2022-01-24T22:31:27.827827Z"
    }
   },
   "outputs": [],
   "source": [
    "plt.plot(time, flux, 'o')"
   ]
  },
  {
   "cell_type": "code",
   "execution_count": null,
   "id": "3065d639",
   "metadata": {
    "ExecuteTime": {
     "end_time": "2022-01-24T22:34:20.717037Z",
     "start_time": "2022-01-24T22:34:20.580895Z"
    }
   },
   "outputs": [],
   "source": [
    "#normalize the out of transit data to 0\n",
    "time_bt = (time[0:80])  #define time before transit\n",
    "time_at = (time[228:288])  #after transit\n",
    "time_oot = np.concatenate((time_bt, time_at))  #total out of transit times\n",
    "flux_bt = (flux[0:80])  #define flux before transit\n",
    "flux_at = (flux[228:288])  #after transit\n",
    "flux_oot = np.concatenate((flux_bt, flux_at))  #total out of transit flux\n",
    "b = np.polyfit(time_oot, flux_oot, 0)  #find intercept (normalizing constant)\n",
    "print(b)\n",
    "flux_norm = flux - b\n",
    "plt.plot(time, flux_norm, 'o')"
   ]
  },
  {
   "cell_type": "code",
   "execution_count": null,
   "id": "406dfe4a",
   "metadata": {
    "ExecuteTime": {
     "end_time": "2022-01-24T22:31:28.214793Z",
     "start_time": "2022-01-24T22:31:28.077159Z"
    }
   },
   "outputs": [],
   "source": [
    "plt.plot(time_oot, flux_oot, 'o')"
   ]
  },
  {
   "cell_type": "code",
   "execution_count": null,
   "id": "f463795f",
   "metadata": {
    "ExecuteTime": {
     "end_time": "2022-01-24T22:32:54.556424Z",
     "start_time": "2022-01-24T22:32:54.442727Z"
    }
   },
   "outputs": [],
   "source": [
    "plt.plot(time, flux, 'o')\n",
    "b_array = np.full(len(flux), b)\n",
    "plt.plot(time, b_array, c='red')"
   ]
  },
  {
   "cell_type": "code",
   "execution_count": null,
   "id": "9a876144",
   "metadata": {},
   "outputs": [],
   "source": []
  }
 ],
 "metadata": {
  "kernelspec": {
   "display_name": "Python 3",
   "language": "python",
   "name": "python3"
  },
  "language_info": {
   "codemirror_mode": {
    "name": "ipython",
    "version": 3
   },
   "file_extension": ".py",
   "mimetype": "text/x-python",
   "name": "python",
   "nbconvert_exporter": "python",
   "pygments_lexer": "ipython3",
   "version": "3.8.8"
  }
 },
 "nbformat": 4,
 "nbformat_minor": 5
}
